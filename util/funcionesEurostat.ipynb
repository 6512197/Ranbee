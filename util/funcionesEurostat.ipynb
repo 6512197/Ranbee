{
 "cells": [
  {
   "cell_type": "code",
   "execution_count": 3,
   "metadata": {},
   "outputs": [],
   "source": [
    "import pandas as pd\n",
    "import os\n",
    "from datetime import datetime"
   ]
  },
  {
   "cell_type": "code",
   "execution_count": 5,
   "metadata": {},
   "outputs": [],
   "source": [
    "def encontrar_dfs_con_valores_cero(dfs_by_country):\n",
    "    \"\"\"\n",
    "    Encuentra los df con mas del 50% de valores cero.\n",
    "\n",
    "    Parámetros:\n",
    "        dfs_by_country (dic): dccionario con dos dfs por pais, uno masculino y otro femenino.\n",
    "        \n",
    "\n",
    "    Retorna: key_to_delete (lista): lista de claves de pais con aquellos que cumplen la condicion\n",
    "   \"\"\"\n",
    "       \n",
    "    # Lista para almacenar las claves de los DataFrames que se eliminarán\n",
    "    keys_to_delete = []\n",
    "    \n",
    "    # Crear una copia de las claves del diccionario\n",
    "    keys_copy = list(dfs_by_country.keys())\n",
    "    \n",
    "    # Iterar sobre las claves del diccionario\n",
    "    for country in keys_copy:\n",
    "        dfs_pais = dfs_by_country[country]\n",
    "        for i, df in enumerate(dfs_pais):\n",
    "            # Calcular el porcentaje de valores cero en 'total_obs_value'\n",
    "            porcentaje_ceros = (df['total_obs_value'] == 0).mean() * 100\n",
    "            \n",
    "            # Verificar si el porcentaje de ceros es mayor al 50%\n",
    "            if porcentaje_ceros > 50:\n",
    "                # Agregar la clave del DataFrame a la lista de claves a eliminar\n",
    "                keys_to_delete.append(country)\n",
    "                break\n",
    "    \n",
    "        \n",
    "    return keys_to_delete"
   ]
  },
  {
   "cell_type": "code",
   "execution_count": 6,
   "metadata": {},
   "outputs": [],
   "source": [
    "def completar_series_trimestrales(ruta_carpeta):\n",
    "    \"\"\"\n",
    "    Completa series temporales trimestrales faltantes en archivos CSV ubicados en un directorio\n",
    "    de entrada y guarda las series completas en otro directorio.\n",
    "\n",
    "    Parámetros:\n",
    "        ruta_carpeta (str): La ruta al directorio que contiene los archivos CSV de series temporales.\n",
    "        \n",
    "    Retorna: None\n",
    "   \"\"\"\n",
    "    # Verificar si la carpeta de salida existe, si no, crearla\n",
    "    if not os.path.exists(\"../data/series\"):\n",
    "        os.makedirs(\"../data/series\")\n",
    "    \n",
    "    # Obtener la lista de archivos en la carpeta\n",
    "    archivos = os.listdir(ruta_carpeta)\n",
    "    \n",
    "    # Iterar sobre los archivos en la carpeta\n",
    "    for archivo in archivos:\n",
    "        # Verificar que el archivo es un archivo CSV\n",
    "        if archivo.endswith('.csv'):\n",
    "            # Construir la ruta completa al archivo\n",
    "            ruta_archivo = os.path.join(ruta_carpeta, archivo)\n",
    "            # Leer el archivo CSV\n",
    "            df = pd.read_csv(ruta_archivo)\n",
    "            # Convertir la columna 'year_month' a tipo datetime\n",
    "            df['year_month'] = pd.to_datetime(df['year_month'])\n",
    "            # Eliminar filas duplicadas si existen\n",
    "            df = df.drop_duplicates(subset=['year_month'])\n",
    "            # Obtener la menor y la mayor fecha presente en el DataFrame\n",
    "            min_fecha = df['year_month'].min()\n",
    "            max_fecha = df['year_month'].max()\n",
    "            # Crear una serie temporal mensual entre la menor y la mayor fecha\n",
    "            fechas_mensuales = pd.date_range(start=min_fecha, end=max_fecha, freq='Q')\n",
    "            # Crear un DataFrame vacío con las fechas mensuales como índice\n",
    "            df_mensual = pd.DataFrame(index=fechas_mensuales)\n",
    "            # Rellenar la serie temporal mensual con los valores del trimestre correspondiente\n",
    "            df_mensual['total'] = df.set_index('year_month').resample('Q').ffill()['total']\n",
    "            # Guardar el DataFrame reducido como un archivo CSV\n",
    "            ruta_nueva = os.path.join(\"../data/series\", archivo)\n",
    "            df_mensual.to_csv(ruta_nueva)\n"
   ]
  }
 ],
 "metadata": {
  "kernelspec": {
   "display_name": "Python 3",
   "language": "python",
   "name": "python3"
  },
  "language_info": {
   "codemirror_mode": {
    "name": "ipython",
    "version": 3
   },
   "file_extension": ".py",
   "mimetype": "text/x-python",
   "name": "python",
   "nbconvert_exporter": "python",
   "pygments_lexer": "ipython3",
   "version": "3.10.9"
  }
 },
 "nbformat": 4,
 "nbformat_minor": 2
}
