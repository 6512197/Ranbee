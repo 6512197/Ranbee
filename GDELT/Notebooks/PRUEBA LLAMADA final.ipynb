{
 "cells": [
  {
   "cell_type": "code",
   "execution_count": 1,
   "metadata": {},
   "outputs": [],
   "source": [
    "from fastapi import FastAPI\n",
    "from gdeltdoc import GdeltDoc, Filters\n",
    "import pandas as pd\n",
    "import os\n",
    "import datetime"
   ]
  },
  {
   "cell_type": "code",
   "execution_count": 2,
   "metadata": {},
   "outputs": [],
   "source": [
    "# PARA LA FUNCION DE LIMPIEZA, FUNCION AUXILIAR\n",
    "def limpiar_dataframe(df: pd.DataFrame):\n",
    "    # Nos aseguramos que el DataFrame tenga todas las fechas. Si alguna no está, rellenamos con 0.\n",
    "    start_date = df['datetime'].min()\n",
    "    end_date = df['datetime'].max()\n",
    "    all_dates = pd.date_range(start=start_date, end=end_date, freq='D')\n",
    "    df = df.set_index('datetime').reindex(all_dates).fillna(0).reset_index()\n",
    "    df = df.rename(columns={'index': 'datetime'}) # Renombramos la columna del índice\n",
    "    df_limpio= df.dropna().drop_duplicates()\n",
    "    return df_limpio # creo la funcion primero, que luego podre usar para cualquier DataFrame. \n",
    "                    #Metemos solo los nulos y duplicados en un primer momento"
   ]
  },
  {
   "cell_type": "code",
   "execution_count": 3,
   "metadata": {},
   "outputs": [],
   "source": [
    "def extraccion_total(funcion_obtener_datos: str, keyword: str, time: str):\n",
    "    countries = ['AU', 'BE', 'SZ', 'CY', 'EZ', 'GM', 'DA', 'GR', 'SP', 'FI', 'FR', 'EI', 'IT', 'LU', 'NL', 'NO', 'PO', 'SW', 'SI']\n",
    "    \n",
    "    for country in countries:\n",
    "        f = Filters(keyword=keyword,\n",
    "                    start_date=\"2017-01-01\",\n",
    "                    end_date=\"2024-04-05\",\n",
    "                    country=country)\n",
    "        gd = GdeltDoc() \n",
    "        \n",
    "        if funcion_obtener_datos.lower() == \"tone\":\n",
    "            results = gd.timeline_search(\"timelinetone\", f)\n",
    "            df = pd.DataFrame(results)\n",
    "            folder_name = \"tono\"\n",
    "        elif funcion_obtener_datos.lower() == \"popularity\":\n",
    "            results = gd.timeline_search(\"timelinevol\", f)\n",
    "            df = pd.DataFrame(results)\n",
    "            folder_name = \"popularity\"\n",
    "        else:\n",
    "            return \"Error: La función de extracción de datos especificada no es válida.\"\n",
    "        \n",
    "        if time.lower() == \"mensual\":\n",
    "            df['datetime'] = pd.to_datetime(df['datetime'])\n",
    "            df_monthly = df.groupby(pd.Grouper(key='datetime', freq='M')).sum().reset_index()\n",
    "            save_folder = f\"./data_final/{folder_name}/mensual\"\n",
    "            df_save = df_monthly\n",
    "        elif time.lower() == \"trimestral\":\n",
    "            df['datetime'] = pd.to_datetime(df['datetime'])\n",
    "            df_trimestral = df.groupby(pd.Grouper(key='datetime', freq='Q')).sum().reset_index() \n",
    "            save_folder = f\"./data_final/{folder_name}/trimestral\"\n",
    "            df_save = df_trimestral\n",
    "            \n",
    "        else:\n",
    "            return \"Error: El intervalo especificado no es válido.\"\n",
    "        \n",
    "        df_save = limpiar_dataframe(df_save)\n",
    "        \n",
    "        # Verificar y crear la carpeta si no existe\n",
    "        os.makedirs(save_folder, exist_ok=True)\n",
    "\n",
    "        # y guardamos\n",
    "        file_timestamp = datetime.datetime.now().strftime(\"%Y%m%d%H%M%S\") # para evitar sobreescribir\n",
    "        filename = f\"{save_folder}/csv_{folder_name}_{time}_{country}_{keyword}_{file_timestamp}.csv\"  # Agregar el nombre del país y el periodo de tiempo al archivo CSV\n",
    "        df_save.to_csv(filename, index=False)\n",
    "    \n",
    "    return f\"Media de {funcion_obtener_datos.capitalize()} data downloaded successfully for all countries\"\n",
    "\n",
    "# ULTIMISIMO CAMBIO, CREAMOS DOS LLAMADAS NUEVAS, UNA PARA DATOS MENSUALES Y OTRA PARA TRIMESTRALES DE TONO Y POPULARIDAD\n",
    "# creamos una ultima llamada que aune todo, para la extraccion completa por países de tono y popularidad\n",
    "# "
   ]
  },
  {
   "cell_type": "code",
   "execution_count": 4,
   "metadata": {},
   "outputs": [
    {
     "data": {
      "text/plain": [
       "'Media de Tone data downloaded successfully for all countries'"
      ]
     },
     "execution_count": 4,
     "metadata": {},
     "output_type": "execute_result"
    }
   ],
   "source": [
    "# Hacemos pruebas con cada ejemplo\n",
    "extraccion_total(\"tone\",\"Inclusive growth\", \"mensual\")"
   ]
  },
  {
   "cell_type": "code",
   "execution_count": 5,
   "metadata": {},
   "outputs": [
    {
     "data": {
      "text/plain": [
       "'Media de Tone data downloaded successfully for all countries'"
      ]
     },
     "execution_count": 5,
     "metadata": {},
     "output_type": "execute_result"
    }
   ],
   "source": [
    "extraccion_total(\"tone\",\"Inclusive growth\", \"trimestral\")"
   ]
  },
  {
   "cell_type": "code",
   "execution_count": 6,
   "metadata": {},
   "outputs": [
    {
     "data": {
      "text/plain": [
       "'Media de Popularity data downloaded successfully for all countries'"
      ]
     },
     "execution_count": 6,
     "metadata": {},
     "output_type": "execute_result"
    }
   ],
   "source": [
    "extraccion_total(\"popularity\",\"Inclusive growth\", \"mensual\")"
   ]
  },
  {
   "cell_type": "code",
   "execution_count": 7,
   "metadata": {},
   "outputs": [
    {
     "data": {
      "text/plain": [
       "'Media de Popularity data downloaded successfully for all countries'"
      ]
     },
     "execution_count": 7,
     "metadata": {},
     "output_type": "execute_result"
    }
   ],
   "source": [
    "extraccion_total(\"popularity\",\"Inclusive growth\", \"trimestral\")"
   ]
  },
  {
   "cell_type": "code",
   "execution_count": 8,
   "metadata": {},
   "outputs": [],
   "source": [
    "# otra prueba, para COMPROBAR SI LA FUNCION DE LIMPIEZA FUNCIONA MENSUAL Y TRIMESTRAL\n",
    "# PARA LA FUNCION DE LIMPIEZA, FUNCION AUXILIAR\n",
    "def limpiar_dataframe(df: pd.DataFrame,freq:str): # PARA EL TIPO DE FRECUENCIA QUE QUEREMOS\n",
    "    # Nos aseguramos que el DataFrame tenga todas las fechas. Si alguna no está, rellenamos con 0.\n",
    "    start_date = df['datetime'].min()\n",
    "    end_date = df['datetime'].max()\n",
    "    all_dates = pd.date_range(start=start_date, end=end_date, freq=freq)\n",
    "    df = df.set_index('datetime').reindex(all_dates).fillna(0).reset_index()\n",
    "    df = df.rename(columns={'index': 'datetime'}) # Renombramos la columna del índice\n",
    "    df_limpio= df.dropna().drop_duplicates()\n",
    "    return df_limpio # creo la funcion primero, que luego podre usar para cualquier DataFrame. \n",
    "                    #Metemos solo los nulos y duplicados en un primer momento"
   ]
  },
  {
   "cell_type": "code",
   "execution_count": 9,
   "metadata": {},
   "outputs": [],
   "source": [
    "def extraccion_total(funcion_obtener_datos: str, keyword: str, time: str):\n",
    "    countries = ['AU', 'BE', 'SZ', 'CY', 'EZ', 'GM', 'DA', 'GR', 'SP', 'FI', 'FR', 'EI', 'IT', 'LU', 'NL', 'NO', 'PO', 'SW', 'SI']\n",
    "    \n",
    "    for country in countries:\n",
    "        f = Filters(keyword=keyword,\n",
    "                    start_date=\"2017-01-01\",\n",
    "                    end_date=\"2024-04-05\",\n",
    "                    country=country)\n",
    "        gd = GdeltDoc() \n",
    "        \n",
    "        if funcion_obtener_datos.lower() == \"tone\":\n",
    "            results = gd.timeline_search(\"timelinetone\", f)\n",
    "            df = pd.DataFrame(results)\n",
    "            folder_name = \"tono\"\n",
    "        elif funcion_obtener_datos.lower() == \"popularity\":\n",
    "            results = gd.timeline_search(\"timelinevol\", f)\n",
    "            df = pd.DataFrame(results)\n",
    "            folder_name = \"popularity\"\n",
    "        else:\n",
    "            return \"Error: La función de extracción de datos especificada no es válida.\"\n",
    "        \n",
    "        if time.lower() == \"mensual\":\n",
    "            df['datetime'] = pd.to_datetime(df['datetime'])\n",
    "            df_monthly = df.groupby(pd.Grouper(key='datetime', freq='M')).sum().reset_index()\n",
    "            save_folder = f\"./data_final/{folder_name}/mensual\"\n",
    "            df_save = df_monthly\n",
    "            df_save = limpiar_dataframe(df_save, \"M\")\n",
    "        elif time.lower() == \"trimestral\":\n",
    "            df['datetime'] = pd.to_datetime(df['datetime'])\n",
    "            df_trimestral = df.groupby(pd.Grouper(key='datetime', freq='Q')).sum().reset_index() \n",
    "            save_folder = f\"./data_final/{folder_name}/trimestral\"\n",
    "            df_save = df_trimestral\n",
    "            df_save = limpiar_dataframe(df_save,\"Q\")\n",
    "            \n",
    "        else:\n",
    "            return \"Error: El intervalo especificado no es válido.\"\n",
    "        \n",
    "\n",
    "        os.makedirs(save_folder, exist_ok=True) # para asegurarnos de que la carpeta este\n",
    "\n",
    "        # y guardamos\n",
    "        file_timestamp = datetime.datetime.now().strftime(\"%Y%m%d%H%M%S\") # para evitar sobreescribir\n",
    "        filename = f\"{save_folder}/{keyword}_csv_{folder_name}_{time}_{country}_{file_timestamp}.csv\"  # Agregar el nombre del país y el periodo de tiempo al archivo CSV\n",
    "        df_save.to_csv(filename, index=False)\n",
    "    \n",
    "    return f\"Mean of {funcion_obtener_datos.capitalize()} data downloaded successfully for all countries\"\n"
   ]
  },
  {
   "cell_type": "code",
   "execution_count": 10,
   "metadata": {},
   "outputs": [
    {
     "data": {
      "text/plain": [
       "'Mean of Tone data downloaded successfully for all countries'"
      ]
     },
     "execution_count": 10,
     "metadata": {},
     "output_type": "execute_result"
    }
   ],
   "source": [
    "# Hacemos pruebas con cada ejemplo\n",
    "extraccion_total(\"tone\",\"Inclusive growth\", \"mensual\")\n",
    "# Y FUNCIONA"
   ]
  },
  {
   "cell_type": "code",
   "execution_count": 11,
   "metadata": {},
   "outputs": [
    {
     "data": {
      "text/plain": [
       "'Mean of Tone data downloaded successfully for all countries'"
      ]
     },
     "execution_count": 11,
     "metadata": {},
     "output_type": "execute_result"
    }
   ],
   "source": [
    "extraccion_total(\"tone\",\"Inclusive growth\", \"trimestral\")"
   ]
  }
 ],
 "metadata": {
  "kernelspec": {
   "display_name": "Python 3",
   "language": "python",
   "name": "python3"
  },
  "language_info": {
   "codemirror_mode": {
    "name": "ipython",
    "version": 3
   },
   "file_extension": ".py",
   "mimetype": "text/x-python",
   "name": "python",
   "nbconvert_exporter": "python",
   "pygments_lexer": "ipython3",
   "version": "3.9.2rc1"
  }
 },
 "nbformat": 4,
 "nbformat_minor": 2
}
