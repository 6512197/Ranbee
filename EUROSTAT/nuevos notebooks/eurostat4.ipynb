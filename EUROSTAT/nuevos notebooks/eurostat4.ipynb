{
 "cells": [
  {
   "cell_type": "code",
   "execution_count": null,
   "metadata": {},
   "outputs": [],
   "source": [
    "import pandas as pd\n",
    "import os\n",
    "import requests\n",
    "\n",
    "%run \"../util/funcionesEurostat.ipynb\""
   ]
  },
  {
   "cell_type": "code",
   "execution_count": null,
   "metadata": {},
   "outputs": [],
   "source": [
    "def get_population():\n",
    "  url = \"https://ec.europa.eu/eurostat/api/dissemination/sdmx/2.1/data/lfsq_pganws/?format=SDMX-CSV&compressed=true\"\n",
    "\n",
    "  response = requests.get(url)\n",
    "\n",
    "  with open('estat_lfsq_pganws_en.csv', 'wb') as f:\n",
    "      f.write(response.content)\n",
    "\n",
    "  return {\"message\": \"CSV downloaded\"}"
   ]
  },
  {
   "cell_type": "code",
   "execution_count": null,
   "metadata": {},
   "outputs": [],
   "source": [
    "print(get_population())"
   ]
  },
  {
   "cell_type": "code",
   "execution_count": null,
   "metadata": {},
   "outputs": [],
   "source": [
    "import gzip\n",
    "\n",
    "archivo_comprimido = 'estat_lfsq_pganws_en.csv' \n",
    "nombre_descomprimido = 'estat_lfsq_pganws-decodificado.csv'  # Cambia 'nombre_del_archivo.tsv' al nombre deseado para el archivo descomprimido\n",
    "\n",
    "with gzip.open(archivo_comprimido, 'rb') as f:\n",
    "    datos_descomprimidos = f.read()\n",
    "\n",
    "# Guardar los datos descomprimidos en un archivo\n",
    "with open(nombre_descomprimido, 'wb') as f:\n",
    "    f.write(datos_descomprimidos)\n",
    "\n",
    "print(\"Archivo descomprimido exitosamente.\")"
   ]
  },
  {
   "cell_type": "code",
   "execution_count": null,
   "metadata": {},
   "outputs": [],
   "source": [
    "df = pd.read_csv(\"estat_lfsq_pganws-decodificado.csv\")\n",
    "\n",
    "if not os.path.exists(\"../data/raw\"):\n",
    "        os.makedirs(\"../data/raw\")\n",
    "df.to_csv(\"../data/raw/eurostat.csv\")\n"
   ]
  },
  {
   "cell_type": "code",
   "execution_count": null,
   "metadata": {},
   "outputs": [],
   "source": [
    "df.head()"
   ]
  },
  {
   "cell_type": "markdown",
   "metadata": {},
   "source": [
    "eliminamos columnas inutiles"
   ]
  },
  {
   "cell_type": "code",
   "execution_count": null,
   "metadata": {},
   "outputs": [],
   "source": [
    "df = df.drop(['DATAFLOW','freq','unit','OBS_FLAG','LAST UPDATE'],axis=1)"
   ]
  },
  {
   "cell_type": "markdown",
   "metadata": {},
   "source": [
    "cambiar Nan por ceros en OBS_VALUE"
   ]
  },
  {
   "cell_type": "code",
   "execution_count": null,
   "metadata": {},
   "outputs": [],
   "source": [
    "df['OBS_VALUE'] = df['OBS_VALUE'].fillna(0)\n",
    "df['OBS_VALUE'] = df['OBS_VALUE'].round(1)\n"
   ]
  },
  {
   "cell_type": "markdown",
   "metadata": {},
   "source": [
    "añdimos columnas con fechas año mes y dia"
   ]
  },
  {
   "cell_type": "code",
   "execution_count": null,
   "metadata": {},
   "outputs": [],
   "source": [
    "# Función para mapear los trimestres a meses específicos\n",
    "def map_quarter_to_month(quarter):\n",
    "    year, q = quarter.split('-Q')\n",
    "    if q == '1':\n",
    "        return f\"{year}-03-01\"\n",
    "    elif q == '2':\n",
    "        return f\"{year}-06-01\"\n",
    "    elif q == '3':\n",
    "        return f\"{year}-09-01\"\n",
    "    elif q == '4':\n",
    "        return f\"{year}-12-01\"\n",
    "    else:\n",
    "        return None\n",
    "\n",
    "# Crear la nueva columna 'year_month' basada en la columna 'TIME_PERIOD'\n",
    "df['year_month'] = df['TIME_PERIOD'].apply(map_quarter_to_month)"
   ]
  },
  {
   "cell_type": "markdown",
   "metadata": {},
   "source": [
    "nos quedamos con los extranjeros activos"
   ]
  },
  {
   "cell_type": "code",
   "execution_count": null,
   "metadata": {},
   "outputs": [],
   "source": [
    "df_foreigners_act = df[(df['citizen']=='FOR') & (df['wstatus']=='ACT')]\n",
    "df_foreigners_act.head(10)"
   ]
  },
  {
   "cell_type": "markdown",
   "metadata": {},
   "source": [
    "y con la fecha >= 2017"
   ]
  },
  {
   "cell_type": "code",
   "execution_count": null,
   "metadata": {},
   "outputs": [],
   "source": [
    "df_foreigners_act = df_foreigners_act[df_foreigners_act['year_month'] >= '2017-01-01']"
   ]
  },
  {
   "cell_type": "code",
   "execution_count": null,
   "metadata": {},
   "outputs": [],
   "source": [
    "df_foreigners_act.head(10)"
   ]
  },
  {
   "cell_type": "markdown",
   "metadata": {},
   "source": [
    "UK lo quitamos de los paises?"
   ]
  },
  {
   "cell_type": "code",
   "execution_count": null,
   "metadata": {},
   "outputs": [],
   "source": [
    "countries = ['AT', 'BE', 'CH', 'CY', 'CZ', 'DE', 'DK', 'EL', 'ES',
       'FI', 'FR', 'IE', 'IT', 'LU', 'NL', 'NO', 'PT', 'SE', 'SI', 'TR']"
   ]
  },
  {
   "cell_type": "markdown",
   "metadata": {},
   "source": [
    "paises que se eliminan por pocos datos:EE,HU,LT,LV,MT,PL,UK"
   ]
  },
  {
   "cell_type": "markdown",
   "metadata": {},
   "source": [
    "creamos df por pais"
   ]
  },
  {
   "cell_type": "code",
   "execution_count": null,
   "metadata": {},
   "outputs": [],
   "source": [
    "# Crear un diccionario de DataFrames, uno por cada país\n",
    "dfs_by_country = {}\n",
    "for country in countries:\n",
    "    dfs_by_country[country] = [df_foreigners_act[(df_foreigners_act['geo'] == country) & (df_foreigners_act['sex'] == 'M')],\n",
    "                               df_foreigners_act[(df_foreigners_act['geo'] == country) & (df_foreigners_act['sex'] == 'F')]]"
   ]
  },
  {
   "cell_type": "markdown",
   "metadata": {},
   "source": [
    "paises con df vacio"
   ]
  },
  {
   "cell_type": "code",
   "execution_count": null,
   "metadata": {},
   "outputs": [],
   "source": [
    "# Crear una lista para almacenar los países con DataFrames vacíos\n",
    "paises_con_dfs_vacios = []\n",
    "\n",
    "# Iterar sobre el diccionario\n",
    "for country, dfs in dfs_by_country.items():\n",
    "    # Verificar si ambas listas están vacías\n",
    "    if len(dfs[0]) == 0 and len(dfs[1]) == 0:\n",
    "        paises_con_dfs_vacios.append(country)\n",
    "\n",
    "# Imprimir los países con DataFrames vacíos\n",
    "print(\"Países con DataFrames vacíos:\")\n",
    "for pais in paises_con_dfs_vacios:\n",
    "    print(pais)"
   ]
  },
  {
   "cell_type": "markdown",
   "metadata": {},
   "source": [
    "lo eliminamos"
   ]
  },
  {
   "cell_type": "code",
   "execution_count": null,
   "metadata": {},
   "outputs": [],
   "source": [
    "for pais in paises_con_dfs_vacios:\n",
    "    del dfs_by_country[pais]"
   ]
  },
  {
   "cell_type": "markdown",
   "metadata": {},
   "source": [
    "recorremos el diccionario y añadimos una columna con el total de obs para cada fecha en cada dataframe"
   ]
  },
  {
   "cell_type": "code",
   "execution_count": null,
   "metadata": {},
   "outputs": [],
   "source": [
    "# Iterar sobre el diccionario\n",
    "for country, dfs in dfs_by_country.items():\n",
    "    # Iterar sobre los DataFrames para el país actual\n",
    "    for df_gender in dfs:\n",
    "        # Calcular el total de observaciones por fecha\n",
    "        df_gender['total_obs_value'] = df_gender.groupby('year_month')['OBS_VALUE'].transform('sum')\n",
    "        df_gender['total_obs_value'] = df_gender['total_obs_value'].round(1)\n",
    "        \n",
    "\n",
    "        "
   ]
  },
  {
   "cell_type": "code",
   "execution_count": null,
   "metadata": {},
   "outputs": [],
   "source": [
    "lista = encontrar_dfs_con_valores_cero(dfs_by_country)\n",
    "print(lista)\n",
    "for i in lista:\n",
    "    del dfs_by_country[i]"
   ]
  },
  {
   "cell_type": "markdown",
   "metadata": {},
   "source": [
    "salvamos los dfs en csv\n",
    "AHORA VIENEN SEPARADOS POR SEXO."
   ]
  },
  {
   "cell_type": "code",
   "execution_count": null,
   "metadata": {},
   "outputs": [],
   "source": [
    "if not os.path.exists(\"../data/pre-processed\"):\n",
    "    os.makedirs(\"../data/pre-processed\")\n",
    "\n",
    "# Iterar sobre las claves y valores del diccionario\n",
    "for pais, dfs_pais in dfs_by_country.items():\n",
    "    i = 0\n",
    "    for df in dfs_pais:\n",
    "        # Generar el nombre del archivo CSV\n",
    "        if (i == 0):\n",
    "            nombre_archivo = f\"../data/pre-processed/foreigner_act_{pais}_M.csv\"\n",
    "            i = 1\n",
    "        else:\n",
    "            \n",
    "            nombre_archivo = f\"../data/pre-processed/foreigner_act_{pais}_F.csv\"\n",
    "        # Guardar el DataFrame como un archivo CSV\n",
    "        df.to_csv(nombre_archivo, index=False)\n"
   ]
  },
  {
   "cell_type": "markdown",
   "metadata": {},
   "source": [
    "guardar serie v2\n"
   ]
  },
  {
   "cell_type": "code",
   "execution_count": null,
   "metadata": {},
   "outputs": [],
   "source": [
    "if not os.path.exists(\"../data/processed\"):\n",
    "    os.makedirs(\"../data/processed\")\n",
    "\n",
    "# Iterar sobre las claves y valores del diccionario\n",
    "for pais, dfs_pais in dfs_by_country.items():\n",
    "    df1 = dfs_pais[0]\n",
    "    df1.reset_index(drop=True, inplace=True)\n",
    "    df2 = dfs_pais[1]\n",
    "    df2.reset_index(drop=True, inplace=True) \n",
    "    df1['year_month'] = pd.to_datetime(df1['year_month'])\n",
    "    df2['year_month'] = pd.to_datetime(df2['year_month'])\n",
    "    \n",
    "    # Encontrar la fecha mínima común entre los dos DataFrames\n",
    "    fecha_minima_comun = max(df1['year_month'].min(), df2['year_month'].min())\n",
    "    fecha_maxima_comun = min(df1['year_month'].max(), df2['year_month'].max())\n",
    "    \n",
    "    # Seleccionar el rango de filas basado en la fecha mínima común\n",
    "    nuevo_df1 = df1[df1['year_month'] >= fecha_minima_comun].reset_index(drop=True)\n",
    "    nuevo_df2 = df2[df2['year_month'] >= fecha_minima_comun].reset_index(drop=True)\n",
    "    \n",
    "    # Calcular la suma de las últimas columnas de df1 y df2\n",
    "    suma_ultimas_columnas = nuevo_df1.iloc[:, -1] + nuevo_df2.iloc[:, -1]\n",
    "    \n",
    "    # Añadir la serie resultante como una nueva columna llamada 'total' a df1\n",
    "    nuevo_df1['total'] = suma_ultimas_columnas.round(1)\n",
    "    #nuevo_df1 = nuevo_df1.drop_duplicates(subset=['year_month'])\n",
    "    nombre_archivo = f\"../data/processed/foreigners_act_{pais}_MyF.csv\"\n",
    "    indice_fecha_maxima = nuevo_df1['year_month'].idxmax()\n",
    "\n",
    "    res = nuevo_df1.iloc[:indice_fecha_maxima+1,7:]    \n",
    "    # Guardar el DataFrame como un archivo CSV\n",
    "    res.to_csv(nombre_archivo, index=False)"
   ]
  },
  {
   "cell_type": "markdown",
   "metadata": {},
   "source": [
    "completa la serie temporal mensual,y la sobreescribe"
   ]
  },
  {
   "cell_type": "code",
   "execution_count": null,
   "metadata": {},
   "outputs": [],
   "source": [
    "\n",
    "# Llamar a la función con la ruta de la carpeta 'data/processed'\n",
    "#completar_serie_temporal_mensual4('../data/processed')"
   ]
  },
  {
   "cell_type": "markdown",
   "metadata": {},
   "source": [
    "completa serie trimestral"
   ]
  },
  {
   "cell_type": "code",
   "execution_count": null,
   "metadata": {},
   "outputs": [],
   "source": [
    "completar_series_trimestrales('../data/processed')"
   ]
  },
  {
   "cell_type": "markdown",
   "metadata": {},
   "source": [
    "generar una serie general"
   ]
  },
  {
   "cell_type": "code",
   "execution_count": null,
   "metadata": {},
   "outputs": [],
   "source": [
    "generar_serie_suma('../data/processed')"
   ]
  },
  {
   "cell_type": "markdown",
   "metadata": {},
   "source": [
    "ABRIR Y PINTAR UNA SERIE"
   ]
  },
  {
   "cell_type": "code",
   "execution_count": null,
   "metadata": {},
   "outputs": [],
   "source": [
    "import matplotlib.pyplot as plt\n",
    "\n",
    "# Leer el archivo CSV\n",
    "df = pd.read_csv('../data/serie/serie_EU.csv')\n",
    "\n",
    "# Convertir la columna 'year_month' a tipo datetime si es necesario\n",
    "#df['year_month'] = pd.to_datetime(df['year_month'])\n",
    "\n",
    "# Configurar el tamaño de la figura\n",
    "plt.figure(figsize=(10, 6))\n",
    "\n",
    "# Trazar la serie temporal\n",
    "plt.plot(df.index,df['total'])\n",
    "\n",
    "# Configurar etiquetas y título\n",
    "plt.xlabel('Fecha')\n",
    "plt.ylabel('Total')\n",
    "plt.title('Serie Temporal')\n",
    "\n",
    "# Rotar las etiquetas del eje x para mejor visualización\n",
    "plt.xticks(rotation=45)\n",
    "\n",
    "# Mostrar la gráfica\n",
    "plt.grid(True)\n",
    "plt.tight_layout()"
   ]
  }
 ],
 "metadata": {
  "kernelspec": {
   "display_name": "Python 3",
   "language": "python",
   "name": "python3"
  },
  "language_info": {
   "codemirror_mode": {
    "name": "ipython",
    "version": 3
   },
   "file_extension": ".py",
   "mimetype": "text/x-python",
   "name": "python",
   "nbconvert_exporter": "python",
   "pygments_lexer": "ipython3",
   "version": "3.10.9"
  }
 },
 "nbformat": 4,
 "nbformat_minor": 2
}
